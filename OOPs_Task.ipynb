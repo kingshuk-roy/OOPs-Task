{
  "nbformat": 4,
  "nbformat_minor": 0,
  "metadata": {
    "colab": {
      "provenance": []
    },
    "kernelspec": {
      "name": "python3",
      "display_name": "Python 3"
    },
    "language_info": {
      "name": "python"
    }
  },
  "cells": [
    {
      "cell_type": "code",
      "execution_count": 1,
      "metadata": {
        "id": "LogQnF7KQdP3"
      },
      "outputs": [],
      "source": [
        "#Q1, Create a vehicle class with an init method having instance variables as name_of_vehicle, max_speed and average_of_vehicle.\n",
        "\n",
        "class vehicle:\n",
        "  \n",
        "  def __init__ (self,  name_of_vehicle, max_speed, average_of_vehicle):\n",
        "    self.name_of_vehicle = name_of_vehicle\n",
        "    self.max_speed = max_speed\n",
        "    self.average_of_vehicle = average_of_vehicle\n"
      ]
    },
    {
      "cell_type": "code",
      "source": [
        "# Q2. Create a child class car from the vehicle class created in Que 1, which will inherit the vehicle class.\n",
        "# Create a method named seating_capacity which takes capacity as an argument and returns the name of the vehicle and its seating capacity.\n",
        "\n",
        "\n",
        "class vehicle:\n",
        "  \n",
        "  def __init__ (self,  name_of_vehicle, max_speed, average_of_vehicle):\n",
        "    self.name_of_vehicle = name_of_vehicle\n",
        "    self.max_speed = max_speed\n",
        "    self.average_of_vehicle = average_of_vehicle\n",
        "\n",
        "class car(vehicle):\n",
        "  def seating_capacity(self, capacity):\n",
        "    return f\"The {self.name_of_vehicle} has a seating capacity of {capacity} people.\"\n",
        "  "
      ],
      "metadata": {
        "id": "iEJZnmHm45tw"
      },
      "execution_count": 2,
      "outputs": []
    },
    {
      "cell_type": "code",
      "source": [
        "vehicle1=vehicle(\"Toyota\", 65, 35)\n",
        "car1=car(\"HONDA\",90,55)\n"
      ],
      "metadata": {
        "id": "ie7u6O1-6YjZ"
      },
      "execution_count": 3,
      "outputs": []
    },
    {
      "cell_type": "code",
      "source": [
        "vehicle1.name_of_vehicle\n",
        "car1.seating_capacity(5)"
      ],
      "metadata": {
        "colab": {
          "base_uri": "https://localhost:8080/",
          "height": 36
        },
        "id": "8CrmjpUzq1Cq",
        "outputId": "e550aa55-d3a1-4c79-b054-76c1d7efc5d5"
      },
      "execution_count": 4,
      "outputs": [
        {
          "output_type": "execute_result",
          "data": {
            "text/plain": [
              "'The HONDA has a seating capacity of 5 people.'"
            ],
            "application/vnd.google.colaboratory.intrinsic+json": {
              "type": "string"
            }
          },
          "metadata": {},
          "execution_count": 4
        }
      ]
    },
    {
      "cell_type": "code",
      "source": [
        "# Q3. What is multiple inheritance? Write a python code to demonstrate multiple inheritance.\n",
        "\n",
        "\"\"\"If a child class is inheriting the properties of a single other class, we call it single inheritance. However, \n",
        "if a child class inherits from more than one class, i.e. this child class is derived from multiple classes,\n",
        " we call it multiple inheritance in Python.\"\"\"\n",
        "\n",
        "class indore_games():\n",
        "  def ludo (self):\n",
        "    print ('Yeh! we are playing LUDO')\n",
        "\n",
        "class outdore_games():\n",
        "  def cricket (self):\n",
        "    print (\"Yeh! we are playing CRICKET\")\n",
        "\n",
        "class games  (indore_games, outdore_games):\n",
        "  def play(self):\n",
        "    print(\"we loves to play indore_games & outdore_games\")\n"
      ],
      "metadata": {
        "id": "aA1_qwTCrGGy"
      },
      "execution_count": 6,
      "outputs": []
    },
    {
      "cell_type": "code",
      "source": [
        "play_games=games()  # creating object of the new derived class"
      ],
      "metadata": {
        "id": "ZUtlxkfTts2M"
      },
      "execution_count": 7,
      "outputs": []
    },
    {
      "cell_type": "code",
      "source": [
        "play_games.ludo()      # calling methods of parent classes and derived class\n",
        "play_games.cricket()   \n",
        "play_games.play()"
      ],
      "metadata": {
        "colab": {
          "base_uri": "https://localhost:8080/"
        },
        "id": "ul1ZFclguhZD",
        "outputId": "116faf3d-c48f-4b20-dfbe-157cda266893"
      },
      "execution_count": 8,
      "outputs": [
        {
          "output_type": "stream",
          "name": "stdout",
          "text": [
            "Yeh! we are playing LUDO\n",
            "Yeh! we are playing CRICKET\n",
            "we loves to play indore_games & outdore_games\n"
          ]
        }
      ]
    },
    {
      "cell_type": "code",
      "source": [
        "# Q4. What are getter and setter in python? Create a class and create a getter and a setter method in this class.\n",
        "\n",
        "''' Getter: A method that allows you to access an attribute in a given class\n",
        "\n",
        "    Setter: A method that allows you to set or mutate the value of an attribute in a class  '''\n",
        "\n",
        "class Person:\n",
        "    def __init__(self, name):\n",
        "        self._name = name\n",
        "\n",
        "    def get_name(self):\n",
        "        return self._name\n",
        "\n",
        "    def set_name(self, name): \n",
        "        self._name = name\n",
        "\n",
        "# Create an instance of the Person class\n",
        "person = Person(\"KINGSHUK\")\n",
        "\n",
        "# Get the name using the getter method\n",
        "print(person.get_name())  # Output: KINGSHUK\n",
        "\n",
        "# Set a new name using the setter method\n",
        "person.set_name(\"ROY\")\n",
        "\n",
        "# Get the updated name using the getter method\n",
        "print(person.get_name())  # Output: ROY"
      ],
      "metadata": {
        "id": "UlT5gAN8j8Ld",
        "colab": {
          "base_uri": "https://localhost:8080/"
        },
        "outputId": "449b2b62-d46e-4c69-c993-daaf7fd2adb2"
      },
      "execution_count": 11,
      "outputs": [
        {
          "output_type": "stream",
          "name": "stdout",
          "text": [
            "KINGSHUK\n",
            "ROY\n"
          ]
        }
      ]
    },
    {
      "cell_type": "code",
      "source": [
        "# Q5.What is method overriding in python? Write a python code to demonstrate method overriding.\n",
        "\n",
        "'''Method overriding is a feature of object-oriented programming languages where the subclass or child class can provide the program with specific characteristics \n",
        "or a specific implementation process of data provided that are already defined in the parent class or superclass.'''\n",
        "class Shape:\n",
        "    def area(self):\n",
        "        print(\"Calculating area in the Shape class\")\n",
        "\n",
        "class Square(Shape):\n",
        "    def area(self):\n",
        "        print(\"Calculating area in the Square class\")\n",
        "\n",
        "# Create instances of the classes\n",
        "shape = Shape()\n",
        "square = Square()\n",
        "\n",
        "# Call the area method of the Shape class\n",
        "shape.area()  # Output: Calculating area in the Shape class\n",
        "\n",
        "# Call the area method of the Square class\n",
        "square.area()  # Output: Calculating area in the Square class"
      ],
      "metadata": {
        "id": "p3jJZ_LmptAE",
        "colab": {
          "base_uri": "https://localhost:8080/"
        },
        "outputId": "bdd02c7c-d1e0-44c5-8b14-9fa7b0e8f385"
      },
      "execution_count": 12,
      "outputs": [
        {
          "output_type": "stream",
          "name": "stdout",
          "text": [
            "Calculating area in the Shape class\n",
            "Calculating area in the Square class\n"
          ]
        }
      ]
    }
  ]
}